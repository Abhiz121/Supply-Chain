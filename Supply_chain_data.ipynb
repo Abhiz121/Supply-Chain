{
  "nbformat": 4,
  "nbformat_minor": 0,
  "metadata": {
    "colab": {
      "provenance": [],
      "toc_visible": true,
      "authorship_tag": "ABX9TyPe4VVamJ4fRz7v+LCTeMTQ",
      "include_colab_link": true
    },
    "kernelspec": {
      "name": "python3",
      "display_name": "Python 3"
    },
    "language_info": {
      "name": "python"
    }
  },
  "cells": [
    {
      "cell_type": "markdown",
      "metadata": {
        "id": "view-in-github",
        "colab_type": "text"
      },
      "source": [
        "<a href=\"https://colab.research.google.com/github/Abhiz121/Supply-Chain/blob/main/Supply_chain_data.ipynb\" target=\"_parent\"><img src=\"https://colab.research.google.com/assets/colab-badge.svg\" alt=\"Open In Colab\"/></a>"
      ]
    },
    {
      "cell_type": "code",
      "execution_count": null,
      "metadata": {
        "colab": {
          "base_uri": "https://localhost:8080/"
        },
        "id": "-sRAdPOlfyus",
        "outputId": "16aecc7a-5907-4aca-e53d-24a044a78276"
      },
      "outputs": [
        {
          "output_type": "stream",
          "name": "stdout",
          "text": [
            "                                               Title  \\\n",
            "0        Weekly Climate and Energy News Roundup #622   \n",
            "1  Hit by blackouts Cuba’s tourism industry now b...   \n",
            "2         China’s digital strategy: Cyber espionage!   \n",
            "3  The Real Reason Everything’s Getting More Expe...   \n",
            "4  This Deadly 1815 Volcanic Eruption Changed Lif...   \n",
            "\n",
            "                                         Description               Source  \\\n",
            "0  “It can scarcely be denied that the supreme go...  Wattsupwiththat.com   \n",
            "1  Cuba's hotels, already hit by power cuts, worr...             BBC News   \n",
            "2  China's infiltration into agricultural IoT (In...              Wnd.com   \n",
            "3  Inflation was a defining issue in the presiden...          Gizmodo.com   \n",
            "4  Volcanoes are among the most awe-inspiring for...               Forbes   \n",
            "\n",
            "                                                 URL          Published At  \n",
            "0  https://wattsupwiththat.com/2024/12/09/weekly-...  2024-12-09T10:00:00Z  \n",
            "1     https://www.bbc.com/news/articles/cly7ndxjzv2o  2024-12-09T00:05:12Z  \n",
            "2  https://www.wnd.com/2024/12/chinas-digital-str...  2024-12-08T23:50:02Z  \n",
            "3  https://gizmodo.com/the-real-reason-everything...  2024-12-08T17:00:42Z  \n",
            "4  https://www.forbes.com/sites/scotttravers/2024...  2024-12-08T14:42:24Z  \n",
            "Data saved to supply_chain_impact_news.csv\n"
          ]
        }
      ],
      "source": [
        "import requests\n",
        "import pandas as pd\n",
        "\n",
        "API_URL = \"https://newsapi.org/v2/everything\"\n",
        "API_KEY = \"29ac2d4297374871bc7cd31cc9fd086d\"\n",
        "\n",
        "params = {\n",
        "    \"q\": \"'weather conditions' OR 'natural disasters' OR 'labor strike' OR 'shipping delays' OR 'factory closures' OR 'trade tariffs' OR 'fuel shortages'\",\n",
        "    \"language\": \"en\",\n",
        "    \"sortBy\": \"publishedAt\",\n",
        "    \"pageSize\": 100,\n",
        "}\n",
        "\n",
        "\n",
        "headers = {\n",
        "    \"Authorization\": f\"Bearer {API_KEY}\"\n",
        "}\n",
        "\n",
        "try:\n",
        "    response = requests.get(API_URL, headers=headers, params=params)\n",
        "    response.raise_for_status()\n",
        "    data = response.json()\n",
        "except requests.exceptions.RequestException as e:\n",
        "    print(f\"Error fetching data from the API: {e}\")\n",
        "    exit()\n",
        "\n",
        "news_data = []\n",
        "try:\n",
        "    for article in data.get(\"articles\", []):\n",
        "        title = article.get(\"title\", \"N/A\")\n",
        "        description = article.get(\"description\", \"N/A\")\n",
        "        url = article.get(\"url\", \"N/A\")\n",
        "        published_at = article.get(\"publishedAt\", \"N/A\")\n",
        "        source = article.get(\"source\", {}).get(\"name\", \"N/A\")\n",
        "\n",
        "        news_data.append({\n",
        "            \"Title\": title,\n",
        "            \"Description\": description,\n",
        "            \"Source\": source,\n",
        "            \"URL\": url,\n",
        "            \"Published At\": published_at\n",
        "        })\n",
        "except Exception as e:\n",
        "    print(f\"Error processing data: {e}\")\n",
        "    exit()\n",
        "\n",
        "news_df = pd.DataFrame(news_data)\n",
        "\n",
        "print(news_df.head())\n",
        "\n",
        "csv_file_path = \"supply_chain_impact_news.csv\"\n",
        "try:\n",
        "    news_df.to_csv(csv_file_path, index=False)\n",
        "    print(f\"Data saved to {csv_file_path}\")\n",
        "except IOError as e:\n",
        "    print(f\"Error saving data to CSV: {e}\")\n"
      ]
    },
    {
      "cell_type": "code",
      "source": [],
      "metadata": {
        "id": "iJDn7e-9f5rE"
      },
      "execution_count": null,
      "outputs": []
    }
  ]
}