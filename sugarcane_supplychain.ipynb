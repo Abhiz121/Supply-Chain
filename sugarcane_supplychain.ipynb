{
  "nbformat": 4,
  "nbformat_minor": 0,
  "metadata": {
    "colab": {
      "provenance": [],
      "gpuType": "T4",
      "authorship_tag": "ABX9TyMYFDd+VnKOWxmd1dkGihcL",
      "include_colab_link": true
    },
    "kernelspec": {
      "name": "python3",
      "display_name": "Python 3"
    },
    "language_info": {
      "name": "python"
    },
    "accelerator": "GPU"
  },
  "cells": [
    {
      "cell_type": "markdown",
      "metadata": {
        "id": "view-in-github",
        "colab_type": "text"
      },
      "source": [
        "<a href=\"https://colab.research.google.com/github/Abhiz121/Supply-Chain/blob/main/sugarcane_supplychain.ipynb\" target=\"_parent\"><img src=\"https://colab.research.google.com/assets/colab-badge.svg\" alt=\"Open In Colab\"/></a>"
      ]
    },
    {
      "cell_type": "code",
      "source": [
        "import pandas as pd\n",
        "from transformers import pipeline"
      ],
      "metadata": {
        "id": "cc8fK9H_sOXe"
      },
      "execution_count": null,
      "outputs": []
    },
    {
      "cell_type": "code",
      "source": [
        "file_path = \"/content/Sugarcane_Supply_Chain_2021_2024.csv\"\n",
        "data = pd.read_csv(file_path)"
      ],
      "metadata": {
        "id": "kakwskRNs9j2"
      },
      "execution_count": null,
      "outputs": []
    },
    {
      "cell_type": "code",
      "source": [
        "sentiment_pipeline = pipeline(\"sentiment-analysis\", model=\"distilbert-base-uncased\")"
      ],
      "metadata": {
        "colab": {
          "base_uri": "https://localhost:8080/"
        },
        "id": "-aRoEZ1DtHkQ",
        "outputId": "506acdc5-0ab3-4595-85f2-cc0689eb3b92"
      },
      "execution_count": null,
      "outputs": [
        {
          "output_type": "stream",
          "name": "stderr",
          "text": [
            "Some weights of DistilBertForSequenceClassification were not initialized from the model checkpoint at distilbert-base-uncased and are newly initialized: ['classifier.bias', 'classifier.weight', 'pre_classifier.bias', 'pre_classifier.weight']\n",
            "You should probably TRAIN this model on a down-stream task to be able to use it for predictions and inference.\n",
            "Device set to use cuda:0\n"
          ]
        }
      ]
    },
    {
      "cell_type": "code",
      "source": [
        "def analyze_risk(comment):\n",
        "    comment_lower = comment.lower()\n",
        "    if \"flood\" in comment_lower or \"flooding\" in comment_lower:\n",
        "        return \"Road blockages due to flooding.\"\n",
        "    elif \"weather\" in comment_lower or \"adverse\" in comment_lower:\n",
        "        return \"Adverse weather conditions affecting supply.\"\n",
        "    elif \"customs\" in comment_lower or \"clearance\" in comment_lower:\n",
        "        return \"Delays due to customs clearance issues.\"\n",
        "    elif \"rush\" in comment_lower or \"port\" in comment_lower:\n",
        "        return \"Port congestion causing delays.\"\n",
        "    elif \"blockage\" in comment_lower or \"road\" in comment_lower:\n",
        "        return \"Supply disrupted due to road blockages.\"\n",
        "    else:\n",
        "        return \"No significant risk detected.\""
      ],
      "metadata": {
        "id": "mgeGOruytLCW"
      },
      "execution_count": null,
      "outputs": []
    },
    {
      "cell_type": "code",
      "source": [
        "def perform_analysis(data):\n",
        "    results = []\n",
        "    for _, row in data.iterrows():\n",
        "        comment = row.get('Weather Conditions', '')\n",
        "        sentiment = sentiment_pipeline(comment)[0] if comment else {'label': 'neutral', 'score': 0.0}\n",
        "        risk = analyze_risk(comment)\n",
        "        results.append({\n",
        "            \"Date\": row['Date'],\n",
        "            \"Stage\": row['Stage'],\n",
        "            \"Location\": row['Location'],\n",
        "            \"Comment\": comment,\n",
        "            \"Sentiment\": sentiment['label'],\n",
        "            \"Sentiment Score\": sentiment['score'],\n",
        "            \"Risk Analysis\": risk\n",
        "        })\n",
        "    return pd.DataFrame(results)"
      ],
      "metadata": {
        "id": "7PZl_ZBstOeG"
      },
      "execution_count": null,
      "outputs": []
    },
    {
      "cell_type": "code",
      "source": [
        "def main():\n",
        "    analyzed_data = perform_analysis(data)\n",
        "    output_file = \"D:\\\\python\\\\Infosys\\\\Analyzed_Sugarcane_Supply_Chain.csv\"\n",
        "    analyzed_data.to_csv(output_file, index=False)\n",
        "    print(f\"Analysis complete. Results saved to {output_file}\")\n",
        "    print(\"\\nSample Output:\\n\", analyzed_data.head())\n",
        "\n",
        "if __name__ == \"__main__\":\n",
        "    main()"
      ],
      "metadata": {
        "colab": {
          "base_uri": "https://localhost:8080/"
        },
        "id": "rcJ2f2qztSG5",
        "outputId": "09a3f76a-4d32-4d20-812b-835bbd6d8dd7"
      },
      "execution_count": null,
      "outputs": [
        {
          "output_type": "stream",
          "name": "stdout",
          "text": [
            "Analysis complete. Results saved to D:\\python\\Infosys\\Analyzed_Sugarcane_Supply_Chain.csv\n",
            "\n",
            "Sample Output:\n",
            "          Date        Stage           Location Comment Sentiment  \\\n",
            "0  2021-04-21       Export  Uttar Pradesh, IN   Rainy   LABEL_0   \n",
            "1  2023-12-18  Cultivation  Uttar Pradesh, IN   Rainy   LABEL_0   \n",
            "2  2021-09-23   Processing     Rio Grande, BR     Dry   LABEL_0   \n",
            "3  2023-12-29   Processing      Karnataka, IN     Dry   LABEL_0   \n",
            "4  2024-04-05   Harvesting     Rio Grande, BR   Humid   LABEL_1   \n",
            "\n",
            "   Sentiment Score                  Risk Analysis  \n",
            "0         0.508647  No significant risk detected.  \n",
            "1         0.508647  No significant risk detected.  \n",
            "2         0.507450  No significant risk detected.  \n",
            "3         0.507450  No significant risk detected.  \n",
            "4         0.504243  No significant risk detected.  \n"
          ]
        }
      ]
    }
  ]
}