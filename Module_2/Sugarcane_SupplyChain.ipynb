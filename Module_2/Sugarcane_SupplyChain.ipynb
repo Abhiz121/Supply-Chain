{
  "nbformat": 4,
  "nbformat_minor": 0,
  "metadata": {
    "colab": {
      "provenance": [],
      "gpuType": "T4"
    },
    "kernelspec": {
      "name": "python3",
      "display_name": "Python 3"
    },
    "language_info": {
      "name": "python"
    },
    "accelerator": "GPU"
  },
  "cells": [
    {
      "cell_type": "code",
      "execution_count": 14,
      "metadata": {
        "id": "VzZG6f9ZcmNV"
      },
      "outputs": [],
      "source": [
        "import pandas as pd\n",
        "from transformers import pipeline"
      ]
    },
    {
      "cell_type": "code",
      "source": [
        "file_path = \"/content/Sugarcane_Supply_Chain_2021_2024.csv\""
      ],
      "metadata": {
        "id": "rzJEdiQGdTQh"
      },
      "execution_count": 15,
      "outputs": []
    },
    {
      "cell_type": "code",
      "source": [
        "data = pd.read_csv(file_path)"
      ],
      "metadata": {
        "id": "WGeQsuzPdT6s"
      },
      "execution_count": 16,
      "outputs": []
    },
    {
      "cell_type": "code",
      "source": [
        "sentiment_pipeline = pipeline(\"sentiment-analysis\", model=\"distilbert-base-uncased\")\n",
        "def analyze_risk(comment):\n",
        "    comment_lower = str(comment).lower()\n",
        "    if \"drought\" in comment_lower or \"low rainfall\" in comment_lower:\n",
        "        return \"Risk due to drought or insufficient rainfall.\"\n",
        "    elif \"flood\" in comment_lower or \"waterlogging\" in comment_lower:\n",
        "        return \"Risk due to flooding or excess water.\"\n",
        "    elif \"pest\" in comment_lower or \"disease\" in comment_lower:\n",
        "        return \"Risk from pests or crop diseases.\"\n",
        "    elif \"transport\" in comment_lower or \"logistics\" in comment_lower:\n",
        "        return \"Supply chain disruption due to transportation issues.\"\n",
        "    elif \"strike\" in comment_lower or \"protest\" in comment_lower:\n",
        "        return \"Risk from labor strikes or protests.\"\n",
        "    else:\n",
        "        return \"No significant risk detected.\""
      ],
      "metadata": {
        "colab": {
          "base_uri": "https://localhost:8080/"
        },
        "id": "N0ZF5poLdZz-",
        "outputId": "68de8b0e-d973-4293-c8dd-296fc7faec0d"
      },
      "execution_count": 17,
      "outputs": [
        {
          "output_type": "stream",
          "name": "stderr",
          "text": [
            "Some weights of DistilBertForSequenceClassification were not initialized from the model checkpoint at distilbert-base-uncased and are newly initialized: ['classifier.bias', 'classifier.weight', 'pre_classifier.bias', 'pre_classifier.weight']\n",
            "You should probably TRAIN this model on a down-stream task to be able to use it for predictions and inference.\n",
            "Device set to use cuda:0\n"
          ]
        }
      ]
    },
    {
      "cell_type": "code",
      "source": [
        "def perform_analysis(data):\n",
        "    results = []\n",
        "    for _, row in data.iterrows():\n",
        "        comment = row.get('Comment', '')\n",
        "        sentiment = sentiment_pipeline(comment)[0] if comment else {\"label\": \"neutral\", \"score\": 0.5}\n",
        "        risk = analyze_risk(comment)\n",
        "\n",
        "        results.append({\n",
        "            \"Region\": row.get('Region', 'Unknown'),\n",
        "            \"Month\": row.get('Month', 'Unknown'),\n",
        "            \"Year\": row.get('Year', 'Unknown'),\n",
        "            \"Comment\": comment,\n",
        "            \"Sentiment\": sentiment['label'],\n",
        "            \"Sentiment Score\": sentiment['score'],\n",
        "            \"Risk Analysis\": risk\n",
        "        })\n",
        "\n",
        "    return pd.DataFrame(results)"
      ],
      "metadata": {
        "id": "YL5c7jwVdcrt"
      },
      "execution_count": 21,
      "outputs": []
    },
    {
      "cell_type": "code",
      "source": [
        "def main():\n",
        "    analyzed_data = perform_analysis(data)\n",
        "    output_file = \"analyzed_sugarcane_supply_chain.csv\"\n",
        "    analyzed_data.to_csv(output_file, index=False)\n",
        "    print(f\"Analysis complete. Results saved to {output_file}\")\n",
        "    print(\"\\nSample Output:\\n\", analyzed_data.head())\n",
        "\n",
        "if __name__ == \"__main__\":\n",
        "    main()"
      ],
      "metadata": {
        "colab": {
          "base_uri": "https://localhost:8080/"
        },
        "id": "hxwhiGf2dplP",
        "outputId": "119b34ec-3d66-494a-a59d-cdd7ac3a1942"
      },
      "execution_count": 19,
      "outputs": [
        {
          "output_type": "stream",
          "name": "stdout",
          "text": [
            "Analysis complete. Results saved to analyzed_sugarcane_supply_chain.csv\n",
            "\n",
            "Sample Output:\n",
            "     Region    Month     Year Comment Sentiment  Sentiment Score  \\\n",
            "0  Unknown  Unknown  Unknown           neutral              0.5   \n",
            "1  Unknown  Unknown  Unknown           neutral              0.5   \n",
            "2  Unknown  Unknown  Unknown           neutral              0.5   \n",
            "3  Unknown  Unknown  Unknown           neutral              0.5   \n",
            "4  Unknown  Unknown  Unknown           neutral              0.5   \n",
            "\n",
            "                   Risk Analysis  \n",
            "0  No significant risk detected.  \n",
            "1  No significant risk detected.  \n",
            "2  No significant risk detected.  \n",
            "3  No significant risk detected.  \n",
            "4  No significant risk detected.  \n"
          ]
        }
      ]
    },
    {
      "cell_type": "code",
      "source": [],
      "metadata": {
        "id": "j6hqnXIjdt7S"
      },
      "execution_count": null,
      "outputs": []
    }
  ]
}